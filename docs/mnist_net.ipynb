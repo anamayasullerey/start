{
 "cells": [
  {
   "cell_type": "markdown",
   "metadata": {},
   "source": [
    "# Two stage neural network implementation for MNIST digits classifier using *Start* "
   ]
  },
  {
   "cell_type": "markdown",
   "metadata": {},
   "source": [
    "## Overview\n",
    "\n",
    "This is a step by step implementation of a multilayer neural network for [MNIST](https://en.wikipedia.org/wiki/MNIST_database) digit classification using *Start*. Input images in MNIST database are 28x28 pixels. Images are black and white so one bit is required to represents each pixel. This neural network classifies input image to one of the possible digits (0-9)."
   ]
  },
  {
   "cell_type": "markdown",
   "metadata": {},
   "source": [
    "## Importing packages\n",
    "*Start* and mnist packages are in the src directory. **\"*Start* install path\"/start/src** directory needs to be in $PYTHONPATH for these packages to load.\n",
    "* mnist package is used for loading mnist data and other related functions.\n",
    "* *Start* package that has the components to build a neural network."
   ]
  },
  {
   "cell_type": "code",
   "execution_count": 1,
   "metadata": {
    "collapsed": true
   },
   "outputs": [],
   "source": [
    "import numpy as np\n",
    "import mnist.utils.load_mnist as load_mnist\n",
    "import mnist.utils.image as image\n",
    "import start.neural_network as nn\n",
    "import start.layer_dict as ld\n",
    "import start.weight_update_params as wup"
   ]
  },
  {
   "cell_type": "markdown",
   "metadata": {},
   "source": [
    "## Loading MNIST data\n",
    "load_mnist function returns training data, validation data and test data as three numpy arrays.\n",
    "Shape of these arrays is Number of samples * 795.\n",
    "\n",
    "![title](data_matrix_shape.jpg)"
   ]
  },
  {
   "cell_type": "code",
   "execution_count": 2,
   "metadata": {
    "collapsed": true
   },
   "outputs": [],
   "source": [
    "# Load the training, validation and test data\n",
    "# Each data is a numpy array of shape Number of Samples * 795\n",
    "# 0:783 are inputs, 784:793 are outputs, 794 is classified output\n",
    "# N is chose as first dimention as it is easy to shuffle training data\n",
    "# during training\n",
    "training_data, validation_data, test_data = load_mnist.load_mnist()\n",
    "\n",
    "validation_x = np.transpose(validation_data[:, 0:784]) \n",
    "validation_y_class = np.transpose(validation_data[:, 794])\n",
    "val_acc = lambda: net.classification_accuracy(validation_x, validation_y_class)\n",
    "\n",
    "test_x = np.transpose(test_data[:, 0:784]) \n",
    "test_y_class = np.transpose(test_data[:, 794])\n",
    "test_acc = lambda: net.classification_accuracy(test_x, test_y_class)\n",
    "\n",
    "##"
   ]
  },
  {
   "cell_type": "markdown",
   "metadata": {},
   "source": [
    "## Neural Network architecture\n",
    "The MNIST digit classifier net in this eaxmaple has the following architecture.\n",
    "![title](mnist_net_arch.jpg)\n"
   ]
  },
  {
   "cell_type": "markdown",
   "metadata": {},
   "source": [
    "## Creating the net object\n",
    "A neural net object is created layer by layer. The first step is to create a net object. Input layer is created automatically when a net is created.\n"
   ]
  },
  {
   "cell_type": "code",
   "execution_count": 3,
   "metadata": {
    "collapsed": true
   },
   "outputs": [],
   "source": [
    "# Create Network - specify input layer neurons (28x28=784)\n",
    "net = nn.NeuralNetwork(\"test_net\", 784)"
   ]
  },
  {
   "cell_type": "markdown",
   "metadata": {},
   "source": [
    "## Adding layers\n",
    "Layers are added sequentially to the net. Last layer added has to be an output layer."
   ]
  },
  {
   "cell_type": "code",
   "execution_count": 4,
   "metadata": {
    "collapsed": true,
    "scrolled": true
   },
   "outputs": [],
   "source": [
    "# Fully connected layer of 800 neurons\n",
    "layer = ld.hdict[\"fc\"](800)\n",
    "net.add_layer(layer)\n",
    "\n",
    "# Relu activation layer of 800 neurons\n",
    "layer = ld.hdict[\"relu\"](800)\n",
    "net.add_layer(layer)\n",
    "\n",
    "# Fully connected layer of 80 neurons\n",
    "layer = ld.hdict[\"fc\"](80)\n",
    "net.add_layer(layer)\n",
    "\n",
    "# Fully connected layer of 80 neurons\n",
    "layer = ld.hdict[\"relu\"](80)\n",
    "net.add_layer(layer)\n",
    "\n",
    "# Fully connected layer of 10 neurons\n",
    "layer = ld.hdict[\"fc\"](10)\n",
    "net.add_layer(layer)\n",
    "\n",
    "# Add softmax output layer\n",
    "layer = ld.odict[\"softmax\"](10)\n",
    "net.add_layer(layer)"
   ]
  },
  {
   "cell_type": "markdown",
   "metadata": {},
   "source": [
    "## Check the network architecture"
   ]
  },
  {
   "cell_type": "code",
   "execution_count": 5,
   "metadata": {
    "collapsed": true
   },
   "outputs": [],
   "source": [
    "net.check_arch()"
   ]
  },
  {
   "cell_type": "markdown",
   "metadata": {
    "collapsed": true
   },
   "source": [
    "## Specify L2 loss coeffcient"
   ]
  },
  {
   "cell_type": "code",
   "execution_count": 6,
   "metadata": {
    "collapsed": true
   },
   "outputs": [],
   "source": [
    "# Specify l2 loss\n",
    "net.set_l2_loss_coeff(.001)"
   ]
  },
  {
   "cell_type": "markdown",
   "metadata": {},
   "source": [
    "## Set weight update method"
   ]
  },
  {
   "cell_type": "code",
   "execution_count": 7,
   "metadata": {
    "collapsed": true
   },
   "outputs": [],
   "source": [
    "# Define weight update method\n",
    "params = wup.GradientDescentParams(.3)\n",
    "# params = wup.MomentumParams(.3)\n",
    "# params = wup.AdamParams()\n",
    "net.set_weight_update_function(params)"
   ]
  },
  {
   "cell_type": "markdown",
   "metadata": {},
   "source": [
    "## Initialize the network"
   ]
  },
  {
   "cell_type": "code",
   "execution_count": 8,
   "metadata": {
    "collapsed": true
   },
   "outputs": [],
   "source": [
    "# For repeatability of results published below\n",
    "np.random.seed(1)\n",
    "# Initialize the network\n",
    "net.initialize_parameters()"
   ]
  },
  {
   "cell_type": "markdown",
   "metadata": {},
   "source": [
    "## Train the network"
   ]
  },
  {
   "cell_type": "code",
   "execution_count": 10,
   "metadata": {},
   "outputs": [
    {
     "name": "stdout",
     "output_type": "stream",
     "text": [
      "Epoch 1\n",
      "Epoch 1 validation data accuracy = 98.39 %.\n",
      "\n",
      "Epoch 2\n",
      "Epoch 2 validation data accuracy = 98.42 %.\n",
      "\n",
      "Epoch 3\n",
      "Epoch 3 validation data accuracy = 98.42 %.\n",
      "\n",
      "Epoch 4\n",
      "Epoch 4 validation data accuracy = 98.41 %.\n",
      "\n",
      "Epoch 5\n",
      "Epoch 5 validation data accuracy = 98.42 %.\n",
      "\n",
      "Epoch 6\n",
      "Epoch 6 validation data accuracy = 98.44 %.\n",
      "\n",
      "Epoch 7\n",
      "Epoch 7 validation data accuracy = 98.45 %.\n",
      "\n",
      "Epoch 8\n",
      "Epoch 8 validation data accuracy = 98.49 %.\n",
      "\n",
      "Epoch 9\n",
      "Epoch 9 validation data accuracy = 98.43 %.\n",
      "\n",
      "Epoch 10\n",
      "Epoch 10 validation data accuracy = 98.46 %.\n",
      "\n",
      "Epoch 11\n",
      "Epoch 11 validation data accuracy = 98.5 %.\n",
      "\n",
      "Epoch 12\n",
      "Epoch 12 validation data accuracy = 98.46 %.\n",
      "\n",
      "Epoch 13\n",
      "Epoch 13 validation data accuracy = 98.46 %.\n",
      "\n",
      "Epoch 14\n",
      "Epoch 14 validation data accuracy = 98.46 %.\n",
      "\n",
      "Epoch 15\n",
      "Epoch 15 validation data accuracy = 98.48 %.\n",
      "\n",
      "Epoch 16\n",
      "Epoch 16 validation data accuracy = 98.48 %.\n",
      "\n",
      "Epoch 17\n",
      "Epoch 17 validation data accuracy = 98.46 %.\n",
      "\n",
      "Epoch 18\n",
      "Epoch 18 validation data accuracy = 98.44 %.\n",
      "\n",
      "Epoch 19\n",
      "Epoch 19 validation data accuracy = 98.48 %.\n",
      "\n",
      "Epoch 20\n",
      "Epoch 20 validation data accuracy = 98.47 %.\n",
      "\n"
     ]
    }
   ],
   "source": [
    "# Set training related parameters\n",
    "mini_batch_size = 32\n",
    "epochs = 20\n",
    "verbose = 0\n",
    "\n",
    "# Train the network\n",
    "for epoch in range(1, epochs+1):\n",
    "    print(\"Epoch \" + str(epoch))\n",
    "    np.random.shuffle(training_data)\n",
    "    mini_batches = [training_data[k:k + mini_batch_size, :] for k in\n",
    "                   range(0, len(training_data), mini_batch_size)]\n",
    "    for count, mini_batch in enumerate(mini_batches, start=1):\n",
    "        x = np.transpose(mini_batch[:, 0:784])\n",
    "        y = np.transpose(mini_batch[:, 784:794])\n",
    "        net.train(x, y)\n",
    "        if ((count%100 == 0) and verbose):\n",
    "            print(\"Count {0} validation data accuracy = {1} %.\".format(count, val_acc()))\n",
    "            print()\n",
    "            \n",
    "        \n",
    "    print(\"Epoch {0} validation data accuracy = {1} %.\".format(epoch, val_acc()))\n",
    "    print()\n"
   ]
  },
  {
   "cell_type": "markdown",
   "metadata": {},
   "source": [
    "## Test data accuracy"
   ]
  },
  {
   "cell_type": "code",
   "execution_count": 11,
   "metadata": {},
   "outputs": [
    {
     "name": "stdout",
     "output_type": "stream",
     "text": [
      "Test data accuracy = 98.58 %.\n",
      "\n"
     ]
    }
   ],
   "source": [
    "print(\"Test data accuracy = {0} %.\".format(test_acc()))\n",
    "print()"
   ]
  },
  {
   "cell_type": "markdown",
   "metadata": {},
   "source": [
    "# Analyzing results\n",
    "\n",
    "## collecting error cases\n",
    "Get the classfied and raw predicted outputs for the test data."
   ]
  },
  {
   "cell_type": "code",
   "execution_count": 12,
   "metadata": {
    "collapsed": true
   },
   "outputs": [],
   "source": [
    "pred_y_class = net.predict_classify(test_x)\n",
    "pred_y = net.predict(test_x)"
   ]
  },
  {
   "cell_type": "markdown",
   "metadata": {},
   "source": [
    "# create a error dictionary"
   ]
  },
  {
   "cell_type": "code",
   "execution_count": 13,
   "metadata": {
    "collapsed": true
   },
   "outputs": [],
   "source": [
    "class errCase(object):\n",
    "    def __init__(self, index, x, y, pred_y):\n",
    "        self.index = index\n",
    "        self.x = x\n",
    "        self.img = x.reshape(28, 28)\n",
    "        self.y = int(y)\n",
    "        self.pred_y = pred_y\n",
    "    \n",
    "    def show(self):\n",
    "        image.show(self.img)\n",
    "\n",
    "errDict = {}\n",
    "for i in range(pred_y_class.shape[0]):\n",
    "  if (pred_y_class[i] != test_y_class[i]):\n",
    "    errDict[i] = errCase(i, test_x[:, i], test_y_class[i], pred_y_class[i]) \n"
   ]
  },
  {
   "cell_type": "markdown",
   "metadata": {},
   "source": [
    "# analyze the error cases\n",
    "Show the images for the failing samples. Also print the raw output for the label and predicted values. This gives an idea of the relative confidence."
   ]
  },
  {
   "cell_type": "code",
   "execution_count": 15,
   "metadata": {},
   "outputs": [
    {
     "name": "stdout",
     "output_type": "stream",
     "text": [
      "Training data index =  8\n",
      "Labeled class = 5 : Predicted class = 6\n",
      "Predicted class output =  0.759254096927\n",
      "Labeled class output =  0.240472638995\n",
      "\n"
     ]
    },
    {
     "data": {
      "image/png": "[encoded data removed]",
      "text/plain": [
       "<matplotlib.figure.Figure at 0x7f47f2835940>"
      ]
     },
     "metadata": {},
     "output_type": "display_data"
    },
    {
     "name": "stdout",
     "output_type": "stream",
     "text": [
      "--------------------------------\n",
      "Training data index =  247\n",
      "Labeled class = 4 : Predicted class = 2\n",
      "Predicted class output =  0.971831804776\n",
      "Labeled class output =  3.53346031838e-05\n",
      "\n"
     ]
    },
    {
     "data": {
      "image/png": "[encoded data removed]",
      "text/plain": [
       "<matplotlib.figure.Figure at 0x7f47f274ae10>"
      ]
     },
     "metadata": {},
     "output_type": "display_data"
    },
    {
     "name": "stdout",
     "output_type": "stream",
     "text": [
      "--------------------------------\n",
      "Training data index =  321\n",
      "Labeled class = 2 : Predicted class = 7\n",
      "Predicted class output =  0.991192982347\n",
      "Labeled class output =  0.00845406938311\n",
      "\n"
     ]
    },
    {
     "data": {
      "image/png": "[encoded data removed]",
      "text/plain": [
       "<matplotlib.figure.Figure at 0x7f47f2769e48>"
      ]
     },
     "metadata": {},
     "output_type": "display_data"
    },
    {
     "name": "stdout",
     "output_type": "stream",
     "text": [
      "--------------------------------\n",
      "Training data index =  340\n",
      "Labeled class = 5 : Predicted class = 3\n",
      "Predicted class output =  0.954069838963\n",
      "Labeled class output =  0.0459289402508\n",
      "\n"
     ]
    },
    {
     "data": {
      "image/png": "[encoded data removed]",
      "text/plain": [
       "<matplotlib.figure.Figure at 0x7f47f26d6550>"
      ]
     },
     "metadata": {},
     "output_type": "display_data"
    },
    {
     "name": "stdout",
     "output_type": "stream",
     "text": [
      "--------------------------------\n",
      "Training data index =  381\n",
      "Labeled class = 3 : Predicted class = 7\n",
      "Predicted class output =  0.566708512933\n",
      "Labeled class output =  0.429318987097\n",
      "\n"
     ]
    },
    {
     "data": {
      "image/png": "[encoded data removed]",
      "text/plain": [
       "<matplotlib.figure.Figure at 0x7f47f2657e48>"
      ]
     },
     "metadata": {},
     "output_type": "display_data"
    },
    {
     "name": "stdout",
     "output_type": "stream",
     "text": [
      "--------------------------------\n"
     ]
    }
   ],
   "source": [
    "showErrors = 5\n",
    "for error in errDict.values():\n",
    "    print (\"Training data index = \", str(error.index))\n",
    "    print (\"Labeled class = {0} : Predicted class = {1}\".format(error.y, error.pred_y))\n",
    "    print (\"Predicted class output = \", str(pred_y[error.pred_y][error.index]))\n",
    "    print (\"Labeled class output = \", str(pred_y[error.y][error.index]))\n",
    "    print()\n",
    "    error.show()\n",
    "    print (\"--------------------------------\")\n",
    "    showErrors -= 1\n",
    "    if (showErrors == 0):\n",
    "        break\n",
    "    "
   ]
  },
  {
   "cell_type": "markdown",
   "metadata": {},
   "source": [
    "## Error matrix\n",
    "Draw a matrix that plots a heat map of errors."
   ]
  },
  {
   "cell_type": "code",
   "execution_count": 16,
   "metadata": {
    "collapsed": true
   },
   "outputs": [],
   "source": [
    "errGrid = [[0 for col in range(10)] for row in range(10)]\n",
    "for i in range(pred_y_class.shape[0]):\n",
    "    errGrid[int(test_y_class[i])][pred_y_class[i]] += 1\n",
    "\n",
    "for i in range(10):\n",
    "    errGrid[i][i] = 0"
   ]
  },
  {
   "cell_type": "code",
   "execution_count": 17,
   "metadata": {},
   "outputs": [
    {
     "data": {
      "image/png": "[encoded data removed]",
      "text/plain": [
       "<matplotlib.figure.Figure at 0x7f47f2676550>"
      ]
     },
     "metadata": {},
     "output_type": "display_data"
    }
   ],
   "source": [
    "import matplotlib.pyplot as plt\n",
    "fig = plt.figure()\n",
    "ax = fig.add_subplot(1,1,1)\n",
    "ax.set_aspect('equal')\n",
    "plt.imshow(errGrid, interpolation='nearest', cmap=plt.cm.YlOrRd)\n",
    "plt.colorbar()\n",
    "plt.show()"
   ]
  },
  {
   "cell_type": "code",
   "execution_count": null,
   "metadata": {
    "collapsed": true
   },
   "outputs": [],
   "source": []
  }
 ],
 "metadata": {
  "kernelspec": {
   "display_name": "Python 3",
   "language": "python",
   "name": "python3"
  },
  "language_info": {
   "codemirror_mode": {
    "name": "ipython",
    "version": 3
   },
   "file_extension": ".py",
   "mimetype": "text/x-python",
   "name": "python",
   "nbconvert_exporter": "python",
   "pygments_lexer": "ipython3",
   "version": "3.6.3"
  }
 },
 "nbformat": 4,
 "nbformat_minor": 2
}
