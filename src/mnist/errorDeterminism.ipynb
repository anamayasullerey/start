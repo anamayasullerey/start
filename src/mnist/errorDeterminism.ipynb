{
 "cells": [
  {
   "cell_type": "markdown",
   "metadata": {},
   "source": [
    "# Determinism in error cases\n",
    "\n",
    "The objective here is to see how unique the error cases are across multiple trainings. The model was trained 10 times and error samples were stored. The accuracy of the model across the runs was very similar (close to 98.4%).\n",
    "\n",
    "A error dictionary is created over multiple runs and another dictionary captures the number of times an error case appeared over 10 runs."
   ]
  },
  {
   "cell_type": "code",
   "execution_count": 1,
   "metadata": {
    "collapsed": true
   },
   "outputs": [],
   "source": [
    "import pickle\n",
    "import matplotlib.pyplot as plt\n",
    "import numpy as np"
   ]
  },
  {
   "cell_type": "code",
   "execution_count": 2,
   "metadata": {
    "collapsed": true
   },
   "outputs": [],
   "source": [
    "class errCase(object):\n",
    "    def __init__(self, index, x, y, pred_y):\n",
    "        self.index = index\n",
    "        self.x = x\n",
    "        self.img = x.reshape(28, 28)\n",
    "        self.y = int(y)\n",
    "        self.pred_y = pred_y\n"
   ]
  },
  {
   "cell_type": "code",
   "execution_count": 3,
   "metadata": {
    "collapsed": true
   },
   "outputs": [],
   "source": [
    "errFreq = []\n",
    "errCount = dict()\n",
    "errDict = dict()\n",
    "total_errors = 0\n",
    "for i in range(10):\n",
    "    errDict_ = pickle.load( open( \"mnistfail.data\" + str(i), \"rb\" ) )\n",
    "    total_errors += len(errDict_)\n",
    "    for index, error in errDict_.items():\n",
    "        errDict[index] = error\n",
    "        if index in errCount:   \n",
    "            errCount[index] += 1\n",
    "        else:\n",
    "            errCount[index] = 1\n",
    "\n",
    "unique_errors = len(errCount)\n",
    "\n",
    "for i in range(11):\n",
    "    errFreq.append(0)\n",
    "    \n",
    "for index, count in errCount.items():\n",
    "    errFreq[count] += 1"
   ]
  },
  {
   "cell_type": "markdown",
   "metadata": {},
   "source": [
    "# Results\n",
    "The bar graph below shows how grequently the unique errors showed up across 10 runs. Out of 238 unique error samples, 90 were incorrectly predicted in all runs. 37 were unique to a single run. Overall the determinism was more than I expected.\n"
   ]
  },
  {
   "cell_type": "code",
   "execution_count": 4,
   "metadata": {},
   "outputs": [
    {
     "name": "stdout",
     "output_type": "stream",
     "text": [
      "total errors over 10 runs = 1560\n",
      "Unique errors over 10 runs = 238\n"
     ]
    },
    {
     "data": {
      "image/png": "[encoded data removed]",
      "text/plain": [
       "<matplotlib.figure.Figure at 0x7effb812f9e8>"
      ]
     },
     "metadata": {},
     "output_type": "display_data"
    },
    {
     "name": "stdout",
     "output_type": "stream",
     "text": [
      "[0, 37, 14, 15, 14, 14, 9, 8, 19, 18, 90]\n"
     ]
    }
   ],
   "source": [
    "print(\"total errors over 10 runs = \" + str(total_errors))\n",
    "print(\"Unique errors over 10 runs = \" + str(unique_errors))\n",
    "plt.bar(range(11), errFreq, 1)\n",
    "plt.xlabel('Frequency of failure over 10 runs')\n",
    "plt.ylabel('Number of samples')\n",
    "plt.show()\n",
    "print(errFreq)\n"
   ]
  }
 ],
 "metadata": {
  "kernelspec": {
   "display_name": "Python 3",
   "language": "python",
   "name": "python3"
  },
  "language_info": {
   "codemirror_mode": {
    "name": "ipython",
    "version": 3
   },
   "file_extension": ".py",
   "mimetype": "text/x-python",
   "name": "python",
   "nbconvert_exporter": "python",
   "pygments_lexer": "ipython3",
   "version": "3.6.3"
  }
 },
 "nbformat": 4,
 "nbformat_minor": 2
}
